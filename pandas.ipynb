{
  "nbformat": 4,
  "nbformat_minor": 0,
  "metadata": {
    "colab": {
      "provenance": [],
      "authorship_tag": "ABX9TyMrpazcRU+waSJbjvF6qhaL",
      "include_colab_link": true
    },
    "kernelspec": {
      "name": "python3",
      "display_name": "Python 3"
    },
    "language_info": {
      "name": "python"
    }
  },
  "cells": [
    {
      "cell_type": "markdown",
      "metadata": {
        "id": "view-in-github",
        "colab_type": "text"
      },
      "source": [
        "<a href=\"https://colab.research.google.com/github/prashanthRanapangu/python-course-work/blob/main/pandas.ipynb\" target=\"_parent\"><img src=\"https://colab.research.google.com/assets/colab-badge.svg\" alt=\"Open In Colab\"/></a>"
      ]
    },
    {
      "cell_type": "code",
      "execution_count": 12,
      "metadata": {
        "colab": {
          "base_uri": "https://localhost:8080/"
        },
        "id": "6im_UZPD3vnJ",
        "outputId": "a411562f-3823-4a81-9fcf-d01e6cfe2f11"
      },
      "outputs": [
        {
          "output_type": "stream",
          "name": "stdout",
          "text": [
            "[[19 22]\n",
            " [43 50]]\n",
            "-2.0000000000000004\n",
            "[[-2.   1. ]\n",
            " [ 1.5 -0.5]]\n",
            "[-0.37228132  5.37228132]\n",
            "[-0.37228132  5.37228132]\n",
            "[1. 2.]\n"
          ]
        }
      ],
      "source": [
        "import numpy as np\n",
        "A=np.array([[1,2],[3,4]])\n",
        "B=np.array([[5,6],[7,8]])\n",
        "\n",
        "print(np.dot(A, B))\n",
        "print(np.linalg.det(A))\n",
        "print(np.linalg.inv(A))\n",
        "eigenvalues, eigenvectors=np.linalg.eig(A)\n",
        "print(eigenvalues)\n",
        "print(eigenvalues)\n",
        "C=np.array([5,11])\n",
        "solution=np.linalg.solve(A,C)\n",
        "print(solution)"
      ]
    },
    {
      "cell_type": "code",
      "source": [
        "import numpy as np\n",
        "A=np.array([[1,2],[3,4]])\n",
        "B=np.array([[5,6],[7,8]])\n",
        "#Stacking array vertically and horizontally\n",
        "vertical_stack=np.vstack((A,B))\n",
        "horizontal_stack=np.hstack((A,B))\n",
        "print(vertical_stack)\n",
        "print(horizontal_stack)\n",
        "split_arr=np.split(np.array([1,2,3,4,5,6]),2)\n",
        "print(split_arr)"
      ],
      "metadata": {
        "colab": {
          "base_uri": "https://localhost:8080/"
        },
        "id": "XSJ2DeWI6UgJ",
        "outputId": "454336b2-6588-4e40-c986-12bdd6031a29"
      },
      "execution_count": 13,
      "outputs": [
        {
          "output_type": "stream",
          "name": "stdout",
          "text": [
            "[[1 2]\n",
            " [3 4]\n",
            " [5 6]\n",
            " [7 8]]\n",
            "[[1 2 5 6]\n",
            " [3 4 7 8]]\n",
            "[array([1, 2, 3]), array([4, 5, 6])]\n"
          ]
        }
      ]
    },
    {
      "cell_type": "code",
      "source": [
        "import pandas as pd\n",
        "\n",
        "product_prices=pd.Series([2999,15999,5299,4999,1999],\n",
        "                         index=[\"wireless Earbuds\",\"Smartphone\",\"Laptop\",\"Smartwatch\",\"Bluetooth Speaker\"])\n",
        "print(product_prices)\n",
        "print(\"min:\",product_prices.min())\n",
        "print(\"max:\",product_prices.max())\n",
        "print(\"head :\",product_prices.head(2))\n",
        "print(\"tail:\",product_prices.tail(3))"
      ],
      "metadata": {
        "colab": {
          "base_uri": "https://localhost:8080/"
        },
        "id": "z8EiczGo8Ohc",
        "outputId": "73705dee-0e2d-4ee7-a379-14cb3c1664d5"
      },
      "execution_count": 18,
      "outputs": [
        {
          "output_type": "stream",
          "name": "stdout",
          "text": [
            "wireless Earbuds      2999\n",
            "Smartphone           15999\n",
            "Laptop                5299\n",
            "Smartwatch            4999\n",
            "Bluetooth Speaker     1999\n",
            "dtype: int64\n",
            "min: 1999\n",
            "max: 15999\n",
            "head : wireless Earbuds     2999\n",
            "Smartphone          15999\n",
            "dtype: int64\n",
            "tail: Laptop               5299\n",
            "Smartwatch           4999\n",
            "Bluetooth Speaker    1999\n",
            "dtype: int64\n"
          ]
        }
      ]
    },
    {
      "cell_type": "code",
      "source": [
        "print(\"apply (Adding 18% GST):\\n\",product_prices.apply(lambda x:x+10))\n"
      ],
      "metadata": {
        "colab": {
          "base_uri": "https://localhost:8080/"
        },
        "id": "NfSzDxHy_Wvq",
        "outputId": "ed044354-f4ac-4549-e6f0-86f065386870"
      },
      "execution_count": 19,
      "outputs": [
        {
          "output_type": "stream",
          "name": "stdout",
          "text": [
            "apply (Adding 18% GST):\n",
            " wireless Earbuds      3009\n",
            "Smartphone           16009\n",
            "Laptop                5309\n",
            "Smartwatch            5009\n",
            "Bluetooth Speaker     2009\n",
            "dtype: int64\n"
          ]
        }
      ]
    },
    {
      "cell_type": "code",
      "source": [
        "print(\"map(formatting as currency ):\\n\",product_prices.map(lambda x:f\"${x}\"))"
      ],
      "metadata": {
        "colab": {
          "base_uri": "https://localhost:8080/"
        },
        "id": "q7p1mPOrCQiQ",
        "outputId": "995083a7-0899-4d0b-f9a7-ae260e34bc28"
      },
      "execution_count": 20,
      "outputs": [
        {
          "output_type": "stream",
          "name": "stdout",
          "text": [
            "map(formatting as currency ):\n",
            " wireless Earbuds      $2999\n",
            "Smartphone           $15999\n",
            "Laptop                $5299\n",
            "Smartwatch            $4999\n",
            "Bluetooth Speaker     $1999\n",
            "dtype: object\n"
          ]
        }
      ]
    },
    {
      "cell_type": "code",
      "source": [
        "print(\"sort by values:\\n\",product_prices.sort_values())"
      ],
      "metadata": {
        "colab": {
          "base_uri": "https://localhost:8080/"
        },
        "id": "eVTeGhl-DHy0",
        "outputId": "2af2b3d3-7c3c-49ce-c986-34e59ca0baf9"
      },
      "execution_count": 21,
      "outputs": [
        {
          "output_type": "stream",
          "name": "stdout",
          "text": [
            "sort by values:\n",
            " Bluetooth Speaker     1999\n",
            "wireless Earbuds      2999\n",
            "Smartwatch            4999\n",
            "Laptop                5299\n",
            "Smartphone           15999\n",
            "dtype: int64\n"
          ]
        }
      ]
    },
    {
      "cell_type": "code",
      "source": [
        "print(\"sort by values:\\n\",product_prices.sort_values(ascending=False))"
      ],
      "metadata": {
        "colab": {
          "base_uri": "https://localhost:8080/"
        },
        "id": "Plz4qoxzD2j0",
        "outputId": "53baafa2-ef70-4863-b269-92acbb2376c0"
      },
      "execution_count": 24,
      "outputs": [
        {
          "output_type": "stream",
          "name": "stdout",
          "text": [
            "sort by values:\n",
            " Smartphone           15999\n",
            "Laptop                5299\n",
            "Smartwatch            4999\n",
            "wireless Earbuds      2999\n",
            "Bluetooth Speaker     1999\n",
            "dtype: int64\n"
          ]
        }
      ]
    },
    {
      "cell_type": "code",
      "source": [
        "print(\"Values Counts:\\n\", product_prices.value_counts())"
      ],
      "metadata": {
        "colab": {
          "base_uri": "https://localhost:8080/"
        },
        "id": "xQbDTDg3ELfZ",
        "outputId": "40a4a22b-4894-4880-d6e9-8071889c7550"
      },
      "execution_count": 25,
      "outputs": [
        {
          "output_type": "stream",
          "name": "stdout",
          "text": [
            "Values Counts:\n",
            " 2999     1\n",
            "15999    1\n",
            "5299     1\n",
            "4999     1\n",
            "1999     1\n",
            "Name: count, dtype: int64\n"
          ]
        }
      ]
    }
  ]
}